{
 "cells": [
  {
   "cell_type": "code",
   "execution_count": 15,
   "id": "a58580fa",
   "metadata": {
    "ExecuteTime": {
     "end_time": "2023-09-12T07:56:18.279056Z",
     "start_time": "2023-09-12T07:56:17.837742Z"
    }
   },
   "outputs": [],
   "source": [
    "from scipy import stats\n",
    "from scipy.stats import norm"
   ]
  },
  {
   "cell_type": "code",
   "execution_count": 17,
   "id": "e923ccc5",
   "metadata": {
    "ExecuteTime": {
     "end_time": "2023-09-12T07:58:07.112324Z",
     "start_time": "2023-09-12T07:58:07.106672Z"
    }
   },
   "outputs": [
    {
     "data": {
      "text/plain": [
       "(218.27579181718517, 231.72420818281483)"
      ]
     },
     "execution_count": 17,
     "metadata": {},
     "output_type": "execute_result"
    }
   ],
   "source": [
    "stats.norm.interval(0.975,5*45,3)"
   ]
  },
  {
   "cell_type": "code",
   "execution_count": 18,
   "id": "deaedab2",
   "metadata": {
    "ExecuteTime": {
     "end_time": "2023-09-12T07:58:10.898264Z",
     "start_time": "2023-09-12T07:58:10.891971Z"
    }
   },
   "outputs": [
    {
     "data": {
      "text/plain": [
       "(308.27579181718517, 321.72420818281483)"
      ]
     },
     "execution_count": 18,
     "metadata": {},
     "output_type": "execute_result"
    }
   ],
   "source": [
    "stats.norm.interval(0.975,7*45,3)"
   ]
  },
  {
   "cell_type": "code",
   "execution_count": null,
   "id": "84c25dc1",
   "metadata": {},
   "outputs": [],
   "source": []
  }
 ],
 "metadata": {
  "kernelspec": {
   "display_name": "Python 3 (ipykernel)",
   "language": "python",
   "name": "python3"
  },
  "language_info": {
   "codemirror_mode": {
    "name": "ipython",
    "version": 3
   },
   "file_extension": ".py",
   "mimetype": "text/x-python",
   "name": "python",
   "nbconvert_exporter": "python",
   "pygments_lexer": "ipython3",
   "version": "3.11.4"
  }
 },
 "nbformat": 4,
 "nbformat_minor": 5
}
