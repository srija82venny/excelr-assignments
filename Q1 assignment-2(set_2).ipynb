{
 "cells": [
  {
   "cell_type": "code",
   "execution_count": 1,
   "id": "fb61ef1d",
   "metadata": {
    "ExecuteTime": {
     "end_time": "2023-09-12T06:22:49.176881Z",
     "start_time": "2023-09-12T06:22:48.596319Z"
    }
   },
   "outputs": [],
   "source": [
    "from scipy import stats\n",
    "from scipy.stats import norm"
   ]
  },
  {
   "cell_type": "code",
   "execution_count": 2,
   "id": "386314af",
   "metadata": {
    "ExecuteTime": {
     "end_time": "2023-09-12T06:23:39.310755Z",
     "start_time": "2023-09-12T06:23:39.306572Z"
    }
   },
   "outputs": [],
   "source": [
    "z = (50-45)/8"
   ]
  },
  {
   "cell_type": "code",
   "execution_count": 3,
   "id": "5f596df3",
   "metadata": {
    "ExecuteTime": {
     "end_time": "2023-09-12T06:23:42.677049Z",
     "start_time": "2023-09-12T06:23:42.669960Z"
    }
   },
   "outputs": [
    {
     "data": {
      "text/plain": [
       "0.625"
      ]
     },
     "execution_count": 3,
     "metadata": {},
     "output_type": "execute_result"
    }
   ],
   "source": [
    "z"
   ]
  },
  {
   "cell_type": "code",
   "execution_count": 4,
   "id": "67cec26b",
   "metadata": {
    "ExecuteTime": {
     "end_time": "2023-09-12T06:24:40.295957Z",
     "start_time": "2023-09-12T06:24:40.289347Z"
    }
   },
   "outputs": [
    {
     "data": {
      "text/plain": [
       "0.26598552904870054"
      ]
     },
     "execution_count": 4,
     "metadata": {},
     "output_type": "execute_result"
    }
   ],
   "source": [
    "1-stats.norm.cdf(abs(0.625))"
   ]
  },
  {
   "cell_type": "code",
   "execution_count": null,
   "id": "d6439e21",
   "metadata": {},
   "outputs": [],
   "source": []
  }
 ],
 "metadata": {
  "kernelspec": {
   "display_name": "Python 3 (ipykernel)",
   "language": "python",
   "name": "python3"
  },
  "language_info": {
   "codemirror_mode": {
    "name": "ipython",
    "version": 3
   },
   "file_extension": ".py",
   "mimetype": "text/x-python",
   "name": "python",
   "nbconvert_exporter": "python",
   "pygments_lexer": "ipython3",
   "version": "3.11.4"
  }
 },
 "nbformat": 4,
 "nbformat_minor": 5
}
